{
 "cells": [
  {
   "cell_type": "markdown",
   "id": "31086eb0-1baf-4fc5-8eb3-c35aa61fc281",
   "metadata": {},
   "source": [
    "# Programming for AI & Data Science Workshop 1\n",
    "## Student ID: 202425274"
   ]
  },
  {
   "cell_type": "markdown",
   "id": "bf541de0",
   "metadata": {},
   "source": [
    "### Aims of the workshop\n",
    "\n",
    "The aim of this session is to introduce you to the concepts of programming by initially writing structured sequences of instructions. After that we will quickly get on with using Python, first with the Python Interpreter and then using the Jupyter Notebook environment, which we’ve briefly seen this week. This workshop will serve as an introduction to programming and Python, putting into practice all that we’ve covered this week. It is important to take time to understand these basic concepts, and explore what they can do. \n",
    "\n",
    "The concept behind this workshop is about discovery, and experimentation surrounding topics covered so far. If you are an experienced programmer in Python, or some other similar language, we still need you to complete these workshop exercises so we can confirm your level of knowledge and you know what we will be using for the final assessment. \n",
    "\n",
    "Feel free to discuss the work with peers, or with any member of the teaching staff.\n",
    "\n",
    "You should use this Jupyter Notebook to develop and store your solutions to the exercises before make a submission of the workshop quiz. Once you have completed this weeks tasks you should submit the workshop results to Canvas (not one at a time), but you can resubmit each weeks results as many times as you need to perfect any points that you may need to improve. You will get feedback from your teachers after each submission.\n",
    "\n",
    "You can copy material from this page into Canvas either by copying text from the screen or using the screen copy tool. On Microsoft Windows the \"Windows Snipping Tool\" can extract pieces of your screen using <kbd>CMD</kbd>-<kbd>SHIFT</kbd>-<kbd>S</kbd> (<kbd>⊞</kbd>-<kbd>SHIFT</kbd>-<kbd>S</kbd>) together and it will change the cursor from an arrow to a crosshair. On an Apple Mac the <kbd>⌘</kbd>+<kbd>⇧</kbd>+<kbd>4</kbd> will copy an image of a section of the screen. Text can be copied on Microsoft Windows using <kbd>ctrl</kbd>+<kbd>c</kbd> and pasted with <kbd>ctrl</kbd>+<kbd>v</kbd> (or by using the copy and paste menus on the mouse cursor). On an Apple Mac use the <kbd>⌘</kbd> instead of <kbd>ctrl</kbd>, but otherwise it works the same way.\n",
    "\n",
    "We need these submitted as images so the tutor can see they have been completed correctly without running your code themselves!"
   ]
  },
  {
   "cell_type": "markdown",
   "id": "3d5d553f",
   "metadata": {},
   "source": [
    "---------\n",
    "## Useful Information\n",
    "\n",
    "Throughout this workshop you may find the following useful.\n",
    "\n",
    "Python Documentation\n",
    "\n",
    "https://docs.python.org/\n",
    "\n",
    "This allows you to lookup core language features of the latest version of Python as well as tangential information about the Python Language.\n"
   ]
  },
  {
   "cell_type": "markdown",
   "id": "16151eea",
   "metadata": {},
   "source": [
    "\n",
    "## Exercise 1 : Using the Python Interpreter\n",
    "\n",
    "The first seven exercises will be performed using the command line Python interpreter and should not be done in Jupyter. You should paste the whole transaction from the Python command line into the results box as a record of your code commands and the results. (The first task is a repeat of an exercise from the welcome week workshop, but is repeated here to ensure all students complete this essential task.)\n",
    "\n",
    "Remember, you can launch the interpreter by opening a command prompt and typing\n",
    "\n",
    "    python\n",
    "    \n",
    "If you are not sure how to open the command prompt, try typing `cmd` into the search bar if you are using a Windows machine in the DAIM lab. The next seven Exercises are designed to demonstrate you familiarity with the Python shell and __should not be done in Jupyter__. Be sure you __include the lines that show which version of Python was used__, the command and the output.\n",
    "\n",
    "When prompted, type __print(\"Hello World!\")__ this should enter ​Hello World!​ On the line immediately afterwards. This is the output of the expression:\n",
    "\n",
    "```\n",
    "C:\\Users\\Brian>python  \n",
    "Python 3.8.10 (tags/v3.8.10:3d8993a, May  3 2021, 11:48:03) [MSC v.1928 64 bit (\n",
    "AMD64)] on win32  \n",
    "Type \"help\", \"copyright\", \"credits\" or \"license\" for more information.  \n",
    ">>> print(\"Hello World!\")  \n",
    "Hello World!  \n",
    ">>>  \n",
    "```\n",
    "\n",
    "Congratulations! You’ve just run your first Python command.\n",
    "\n",
    "\n",
    "\n",
    "Paste the text showing results in the cell below as you should be keeping this Jupyter notebook as a record of your work. You should also, when all the exercises are completed, copy these results into the Canvas quiz, so they can be graded by your tutor."
   ]
  },
  {
   "cell_type": "raw",
   "id": "7bff48bf",
   "metadata": {},
   "source": [
    "----\n",
    "Paste the text of your command prompt Python showing your results in the box here\n",
    "                    \n",
    "                    \n",
    "----"
   ]
  },
  {
   "cell_type": "markdown",
   "id": "5d233de8",
   "metadata": {},
   "source": [
    "### Exercise 2:\n",
    "\n",
    "We can use `type()` to check the type of any value. We simply provide the value to type, between the parentheses. \n",
    "\n",
    "E.g. `type(932)` \n",
    "Try this in the command line Python interpreter? What do you get out?\n",
    "\n",
    "Hint: We don’t need print in this case with the interpreter, because it is outputting it for us. If we executed this code in a `.py` file, this would not be the case. Any expressions which have a value will be spit back to us.\n",
    "\n",
    "Using your knowledge of the other basic types we introduced, check some examples of these values with `type()`.\n",
    "\n",
    "Paste the entire transaction below from the python command prompt below. Be sure to show the code and output:"
   ]
  },
  {
   "cell_type": "raw",
   "id": "edb686de",
   "metadata": {},
   "source": [
    "----\n",
    "Paste the text of your command prompt Python showing your results in the box here\n",
    "                    \n",
    "                    \n",
    "----"
   ]
  },
  {
   "cell_type": "markdown",
   "id": "2ea0debd",
   "metadata": {},
   "source": [
    "### Exercise 3:\n",
    "\n",
    "We covered casting a value from one type to another. An example of this might be treating the integer 932 as a float.\n",
    "\n",
    "1. Write an expression which casts `932` to the type string (shortened to str)\n",
    "2. Verify the type output from the step above. Hint: We don’t need to use any variables yet. Remember, `type()` can take any expression which provides a value.\n",
    "\n",
    "Paste the entire transaction below from the python command prompt below. Be sure to show the code and output:"
   ]
  },
  {
   "cell_type": "raw",
   "id": "e9fccb38",
   "metadata": {},
   "source": [
    "----\n",
    "Paste the text of your command prompt Python showing your results in the box here\n",
    "                    \n",
    "                    \n",
    "----"
   ]
  },
  {
   "cell_type": "markdown",
   "id": "db5d16c7",
   "metadata": {},
   "source": [
    "### Exercise 4:\n",
    "\n",
    "For the following expressions, what are the types of the two inputs values, and what is the type of the result of executing the expression. Try to answer these first without writing code, then write some Python to verify if you are correct.\n",
    "\n",
    "1. 3 + 4\n",
    "2. 3.0 + 4\n",
    "3. 37 % 7 ** 2\n",
    "4. 'bob' + 'cat'\n",
    "5. \"bob\" / \"cat\"\n",
    "6. \"banana\" + \"na\" * 20\n",
    "\n",
    "Do any of these combinations surprise you?\n",
    "Try other operators which you know, and some other data types.\n",
    "\n",
    "Paste the entire set of transactions from the command prompt below:"
   ]
  },
  {
   "cell_type": "raw",
   "id": "f28a40d7",
   "metadata": {},
   "source": [
    "----\n",
    "Paste the text of your command prompt Python showing your results in the box here\n",
    "                    \n",
    "                    \n",
    "----"
   ]
  },
  {
   "cell_type": "markdown",
   "id": "b37f54c8",
   "metadata": {},
   "source": [
    "### Exercise 5:\n",
    "\n",
    "This question explores the difference between arithmetic in computer code and arithmetic taught at school. You are given the following mathematical expression\n",
    "\n",
    "    12 + 28 / 7 * 2 \n",
    "    \n",
    "Using your understanding of PEMDAS (or BODMAS):\n",
    "\n",
    "1. What would be the result of such an expression? Which numbers are calculated together first\n",
    "2. What would be the overall type of the result?\n",
    "3. How might we use parentheses to make this expression less ambiguous?  Remember, the expression must still return the same value!"
   ]
  },
  {
   "cell_type": "raw",
   "id": "788c57a0",
   "metadata": {},
   "source": [
    "----\n",
    "Write your answer here; some of the answer may be English text or Python. Remember to show all three answers.\n",
    "                    \n",
    "                    \n",
    "----"
   ]
  },
  {
   "cell_type": "markdown",
   "id": "20a1b1e3",
   "metadata": {},
   "source": [
    "### Exercise 6:\n",
    "\n",
    "Create some variables (name of your choosing) to store the values 42.0 and 97.\n",
    "\n",
    "1. Calculate addition, subtraction, divide, and multiply operators on these. (E.g. a * b)\n",
    "2. Using the expressions from above, create a new variable which is assigned thatexpression. (E.g. `product = a * b`). Do this for all your variants.\n",
    "3. Print your new variables. (E.g. `print( product )`)\n",
    "\n",
    "Paste the entire transaction from the python command prompt below showing both code and results:"
   ]
  },
  {
   "cell_type": "raw",
   "id": "0c0243df",
   "metadata": {},
   "source": [
    "----\n",
    "Paste the text of your command prompt Python showing your results in the box here\n",
    "                    \n",
    "----"
   ]
  },
  {
   "cell_type": "markdown",
   "id": "a0cb4477",
   "metadata": {},
   "source": [
    "### Exercise 7:\n",
    "\n",
    "Pick your favourite expression from Ex 5. Take any variable from a previous exercise which you made (E.g `product`), and re-bind this to your favourite  expression used previously (E.g `= 37 % 7 ** 2`). Print the new value of your cosen variable (E.g. `print(product)` again); observe the change in value from when used previously.\n",
    "\n",
    "Paste the entire transaction from the python command prompt below showing both code and results:"
   ]
  },
  {
   "cell_type": "raw",
   "id": "9551a98d",
   "metadata": {},
   "source": [
    "----\n",
    "Paste the text of your command prompt Python showing your results in the box here\n",
    "                    \n",
    "                    \n",
    "----"
   ]
  },
  {
   "cell_type": "markdown",
   "id": "f0e32a81",
   "metadata": {},
   "source": [
    "----\n",
    "\n",
    "----"
   ]
  },
  {
   "cell_type": "markdown",
   "id": "4151baa4",
   "metadata": {},
   "source": [
    "## Using the Jupyter Notebook\n",
    "\n",
    "### Exercise 8:\n",
    "\n",
    "For this exercise we require you to upload the actual Jupyter Notebook file `something.ipnyb` to demonstrate you know how to create Notebook files and can find them on your computer (not everyone can)!\n",
    "\n",
    "It is a good idea to make a sensibly named folder for your weekly exercises so locating your work is easier (i.e. don't just put everything on the Desktop!)"
   ]
  },
  {
   "cell_type": "markdown",
   "id": "fa570230",
   "metadata": {},
   "source": [
    "----\n",
    "$(paste\\ the\\ location\\ of\\ the\\ notebook\\ file\\ here\\ so\\ you\\ know\\ where\\ it\\ is\\ located)$\n",
    "                    \n",
    "                    \n",
    "----"
   ]
  },
  {
   "cell_type": "markdown",
   "id": "4cac5a46",
   "metadata": {},
   "source": [
    "## Exercise 9:\n",
    "\n",
    "Add a Markdown cell as the first cell at the top of the book to indicate your student information. Enter the following, filling in your student ID in place of <StudentID>:\n",
    "    \n",
    "    # Prog AI & DS Workshop 1\n",
    "    ## Student ID: <StudentID>\n",
    "    \n",
    "Use Shift+Enter, to execute this markdown cell and force it to display. This exercise tests that you know what you student ID actually is, and also that you can create and format Markdown in addition to using code cells. There will be no more exercises on using Markdown but its usage will enhance your final graded submission, so it is worth understanding this element of formatting documentation in Jupyter.\n",
    "    \n",
    "You can learn more about MarkDown notation for text formatting by reading the MarkDown documentation linked form the course Canvas page.\n",
    "    \n",
    " Paste screen capture on the results below as a record of the task completion."
   ]
  },
  {
   "cell_type": "markdown",
   "id": "ce036a7f",
   "metadata": {},
   "source": [
    "----\n",
    "$(paste\\ your\\ results\\ here)$\n",
    "                    \n",
    "                    \n",
    "----"
   ]
  },
  {
   "cell_type": "markdown",
   "id": "7bb78a7b",
   "metadata": {},
   "source": [
    "### Exercise 10:\n",
    "\n",
    "We can use comparison operators on strings, just as numbers. However, these have some different behaviours. Comparing two strings \"ada\", and \"bill\" will check the first letter of each and will use alphabetical ordering to determine which one is ‘first’ (i.e. Lower than the latter).\n",
    "\n",
    "- In the fresh cell below, try executing \"ada\" < \"bill\" \n",
    "\n",
    "If the first letter is the same in both, it will then check the second letter to make the outcome. If the second letter is also the same, it will keep progressing until out of letters.\n",
    "\n",
    "- Compare \"ada\" with \"adb\" \n",
    "\n",
    "If the two words have different lengths, but otherwise are identical as we go along, python will favour the shorter of the two strings.\n",
    "\n",
    "- E.g. \"ada\" < \"adalovelace\" -> True\n",
    "\n",
    "Try out several string comparisons below. You can add more cells if you need to."
   ]
  },
  {
   "cell_type": "code",
   "execution_count": null,
   "id": "af6ad893",
   "metadata": {},
   "outputs": [],
   "source": []
  },
  {
   "cell_type": "markdown",
   "id": "3fc6d5db",
   "metadata": {},
   "source": [
    "### Exercise 11:\n",
    "\n",
    "Using `input()` ask the user to input a name. Let’s check if the name is equal to your name using an equality test!\n",
    "\n",
    "E.g.\n",
    "```\n",
    "their_name = input(\"What is your name?: \")\n",
    "if their_name == \"Brian\":\n",
    "    print(\"I’m called that too\")\n",
    "```    "
   ]
  },
  {
   "cell_type": "code",
   "execution_count": null,
   "id": "2088cfc7",
   "metadata": {},
   "outputs": [],
   "source": []
  },
  {
   "cell_type": "markdown",
   "id": "b6aa6877",
   "metadata": {},
   "source": [
    "### Exercise 12:\n",
    "\n",
    "Remember that we can perform logical operations on entire boolean expressions themselves. Modify the boolean expression in Ex12 to also accept if they enter your last name too!\n",
    "\n",
    "E.g.\n",
    "```\n",
    "their_name = input(\"What is your name?: \")\n",
    "if their_name == \"Brian\" or their_name == \"Tompsett\":\n",
    "    print(\"I'm called that too\")\n",
    "```    \n",
    " Test out providing other names, your first name, and your last name to see what the program outputs. Remember you can re-run the same cell that you have selected. Notice how each side of ‘or’ is a boolean expression which evaluates to True/False in itself."
   ]
  },
  {
   "cell_type": "code",
   "execution_count": null,
   "id": "098f8f2b",
   "metadata": {},
   "outputs": [],
   "source": []
  },
  {
   "cell_type": "markdown",
   "id": "0e562151",
   "metadata": {},
   "source": [
    "### Exercise 13:\n",
    "\n",
    "Given the following input table, complete the truth table for the following expression:\n",
    "\n",
    "    (a and b) or c\n",
    "\n",
    "|a|b|c|a and b|(a and b) or c|\n",
    "| --- | --- | --- | ------- | ------- |\n",
    "|True|True|True| | |\n",
    "|True|False|True| | |\n",
    "|False|True|True| | |\n",
    "|False|False|True| | |\n",
    "|True|True|False| | |\n",
    "|True|False|False| | |\n",
    "|False|True|False| | |\n",
    "|False|False|False| | |\n",
    "\n",
    "Copy the table to the answer box and fill in the results\n"
   ]
  },
  {
   "cell_type": "markdown",
   "id": "2e7abc17",
   "metadata": {},
   "source": [
    "----\n",
    "$(paste\\ your\\ results\\ here)$\n",
    "                    \n",
    "                    \n",
    "----"
   ]
  },
  {
   "cell_type": "markdown",
   "id": "aba35683",
   "metadata": {},
   "source": [
    "### Exercise 14:\n",
    "\n",
    "You are then told that the expression is incorrect, and should be:\n",
    "\n",
    "     (a and b) or not c\n",
    "     \n",
    "How does this change the overall boolean expression. Add a column to your table, and fill in the results of this new expression."
   ]
  },
  {
   "cell_type": "markdown",
   "id": "5215b828",
   "metadata": {},
   "source": [
    "----\n",
    "$(paste\\ your\\ results\\ here)$\n",
    "                    \n",
    "                    \n",
    "----"
   ]
  },
  {
   "cell_type": "markdown",
   "id": "7e14543e",
   "metadata": {},
   "source": [
    "### Exercise 15:\n",
    "\n",
    "We can use the expression `x % 2 == 0` to check if a variable is even. Write an `if statement` to check if a given variable is even. It should print out “The variable is even!” if it passes this condition. Remember, modulo provides a remainder. Even numbers can fit 2 into themselves perfectly with nothing left over, hence why we check if the remainder is 0."
   ]
  },
  {
   "cell_type": "code",
   "execution_count": null,
   "id": "5b471dfc",
   "metadata": {},
   "outputs": [],
   "source": [
    "x = 30"
   ]
  },
  {
   "cell_type": "markdown",
   "id": "fb68e588",
   "metadata": {},
   "source": [
    "### Exercise 16:\n",
    "\n",
    "How could the previous exercise be modified to also print “The variable is odd!” when the variable is odd? Can a variable be anything other than even or odd? The last part of the question tests your understanding of the mathematics of numbers (which is important when handling data). Could your python code handle this case? (You might have to write an explanation that demonstrates your understanding.)"
   ]
  },
  {
   "cell_type": "code",
   "execution_count": 13,
   "id": "52452b64",
   "metadata": {},
   "outputs": [
    {
     "name": "stdin",
     "output_type": "stream",
     "text": [
      "Enter the Number:  30.2\n"
     ]
    },
    {
     "name": "stdout",
     "output_type": "stream",
     "text": [
      "Please enter an integer number.\n"
     ]
    }
   ],
   "source": [
    "x = float(input(\"Enter the Number: \"))\n",
    "\n",
    "if x % 2 == 0 and x == int(x):  \n",
    "    print(\"The Number is Even\")\n",
    "elif x % 2 != 0 and x == int(x):\n",
    "    print(\"The Number is Odd\")\n",
    "else:\n",
    "    print(\"Please enter an integer number.\")"
   ]
  },
  {
   "cell_type": "markdown",
   "id": "03f8270c",
   "metadata": {},
   "source": [
    "### Exercise 17:\n",
    "\n",
    "Produce some code which first checks if a variable is divisible by 2, then checks if it is divisible by 3, otherwise prints that it is “not divisible by 2 or 3”. Would we use two separate if statements, or a single if, elif statement. In summary, it should show a number that divides only by two, and number that divides only by three, a number that divides by both and a number that divides by neither - four possible outcomes. The purpose of the exercise is show how more complex decisions can be written in python.\n",
    "\n",
    "To help you decide, consider what should be output if we tested the number 6 through this system."
   ]
  },
  {
   "cell_type": "code",
   "execution_count": null,
   "id": "0c61df26",
   "metadata": {},
   "outputs": [],
   "source": []
  },
  {
   "cell_type": "markdown",
   "id": "246ed982",
   "metadata": {},
   "source": [
    "### Exercise 18:\n",
    "\n",
    "You are given the following list of numbers:\n",
    "```\n",
    "   A = [ 5, 2, 9, -1, 3, 12]\n",
    "```\n",
    "Using the counter method from lectures slides, create a while loop which will go over each item in this list.\n",
    "1. Print each item\n",
    "2. Check if the item is -1, if so, immediately break out of the loop.\n",
    "3. Calculate the square of the element, and print it.\n",
    "\n",
    "Your code should contain a single while loop which performs the above actions in the order shown above. It is an exercise in writing loops containing many actions."
   ]
  },
  {
   "cell_type": "code",
   "execution_count": null,
   "id": "8c2fc1a5",
   "metadata": {},
   "outputs": [],
   "source": []
  },
  {
   "cell_type": "markdown",
   "id": "35856a69",
   "metadata": {},
   "source": [
    "### Exercise 19:\n",
    "\n",
    "Replace the while loop counter method from the previous exercise with for loop and range(n).\n",
    "\n",
    "Your code should contain a single for loop which performs the above actions in the order shown above. It is an exercise in writing loops containing many actions."
   ]
  },
  {
   "cell_type": "code",
   "execution_count": null,
   "id": "d9cd7b79",
   "metadata": {},
   "outputs": [],
   "source": []
  },
  {
   "cell_type": "markdown",
   "id": "a90131ed",
   "metadata": {},
   "source": [
    "### Exercise 20:\n",
    "\n",
    "Repeat the previous exercise, but using the direct iteration version. E.g. No indexing.\n",
    "\n",
    "You code should contain a single loop which performs the above actions in the order shown above. It is an exercise in writing loops containing many actions."
   ]
  },
  {
   "cell_type": "code",
   "execution_count": null,
   "id": "b369be4f",
   "metadata": {},
   "outputs": [],
   "source": []
  },
  {
   "cell_type": "markdown",
   "id": "e37c3e9e",
   "metadata": {},
   "source": [
    "### Exercise 21:\n",
    "\n",
    "Using the list, A, from the previous looping exercises, write a loop which will sum all of the numbers up,and print them."
   ]
  },
  {
   "cell_type": "code",
   "execution_count": 19,
   "id": "87ef833e",
   "metadata": {},
   "outputs": [
    {
     "name": "stdout",
     "output_type": "stream",
     "text": [
      "30\n"
     ]
    }
   ],
   "source": [
    "A = [5, 2, 9, -1, 3, 12]\n",
    "total_sum=0\n",
    "for item in A:\n",
    "    total_sum += item\n",
    "print(total_sum)"
   ]
  },
  {
   "cell_type": "markdown",
   "id": "4e348d2f",
   "metadata": {},
   "source": [
    "### Exercise 22:\n",
    "\n",
    "The mean number can be calculated by taking the summation and dividing by how many elements were there. Using the output of the last exercise (the summation), create a new variable for the mean number of the list. (E.g. [1, 3, 5] # Sum is 9. Mean is 9 / 3 which is 3.)"
   ]
  },
  {
   "cell_type": "code",
   "execution_count": 20,
   "id": "5b50d2a6",
   "metadata": {},
   "outputs": [
    {
     "name": "stdout",
     "output_type": "stream",
     "text": [
      "30\n",
      "5.0\n"
     ]
    }
   ],
   "source": [
    "A = [5, 2, 9, -1, 3, 12]\n",
    "total_sum=0\n",
    "for item in A:\n",
    "    total_sum += item\n",
    "mean_value = total_sum/len(A)\n",
    "print(total_sum)\n",
    "print(mean_value)"
   ]
  },
  {
   "cell_type": "markdown",
   "id": "30d75877",
   "metadata": {},
   "source": [
    "### Exercise 23:\n",
    "\n",
    "You are asked to find the minimum, and maximum of a list of numbers. You are provided with code to determine the minimum.\n",
    "\n",
    "```\n",
    "my_items = [ -5, 3, 72, 1, 9, 24, -3]\n",
    "\n",
    "minimum_so_far = None\n",
    "for elem in my_items:\n",
    "    if minimum_so_far == None or elem < minimum_so_far:\n",
    "        minimum_so_far = elem\n",
    "        \n",
    "print(\"Minimum Value: \", minimum_so_far)\n",
    "```\n",
    "Modify the above program to also calculate the maximum so far, outputting it in a similar way.\n",
    "\n",
    "In this example we used `None` as an initial value as it’s not a number. If the value is None,then we know we haven’t checked anything yet, so our first value is always going to be our highest and lowest!"
   ]
  },
  {
   "cell_type": "code",
   "execution_count": null,
   "id": "3900fd06",
   "metadata": {},
   "outputs": [],
   "source": []
  },
  {
   "cell_type": "markdown",
   "id": "72de4081",
   "metadata": {},
   "source": [
    "### Exercise 24:\n",
    "\n",
    "Execute the following:\n",
    "\n",
    "```\n",
    "A = 5\n",
    "B = A\n",
    "B = 10\n",
    "print(A) =>  5\n",
    "print(B) => 10\n",
    "```\n",
    "When we rebind B to be 10, A is left completely unmodified. This behaviour is unique to basic data primitives such as the basic types we have looked at. However, let’s see what happens if we do something similar to a List.\n",
    "```\n",
    "A = [ 1, 6, 2, 7 ]\n",
    "B = A\n",
    "B.remove( 6 )\n",
    "print( A ) => [ 1, 2, 7 ]\n",
    "```\n",
    "This behaviour will hold for Lists, Dicts, and most ‘objects’ in Python. B is a reference to A. We only have one copy of our list floating around, but now we have multiple variables capable of pointing to it. If we wanted to make a copy of the List, such that we can modify them independent of each other we have to `[:]`. E.g.\n",
    "```\n",
    "A = [ 1, 6, 2, 7 ]\n",
    "B = A[:]\n",
    "B.remove( 6 )\n",
    "print( A ) => [ 1, 6, 2, 7 ]\n",
    "print( B ) => [ 1, 2, 7]\n",
    "```\n",
    "This is known as ‘slice’ notation. Effectively `[:]` says to take the entire list, and it makes a copy of this."
   ]
  },
  {
   "cell_type": "code",
   "execution_count": null,
   "id": "153e2cdc",
   "metadata": {},
   "outputs": [],
   "source": []
  },
  {
   "cell_type": "markdown",
   "id": "18fbaddb",
   "metadata": {},
   "source": [
    "### Exercise 25:\n",
    "\n",
    "Using B (your copy of A), ​append​ some of your favourite numbers to the list."
   ]
  },
  {
   "cell_type": "code",
   "execution_count": null,
   "id": "528e4359",
   "metadata": {},
   "outputs": [],
   "source": []
  },
  {
   "cell_type": "markdown",
   "id": "4d4cc802",
   "metadata": {},
   "source": [
    "### Exercise 26:\n",
    "\n",
    "You are given the following to complete:\n",
    "```\n",
    "results = []\n",
    "bought_cost = [ 10.0, 12.55, 17.99 ] # Price you pay to the manufacturer for an item \n",
    "sale_price = [ 12.0, 11.50, 20.0 ] # Price you sell it for\n",
    "\n",
    "for i in range( len(bought_cost) ):\n",
    "    <Calculate the difference between sale_price and bought_cost>\n",
    "    <Add these to the empty list, results>\n",
    "    \n",
    "print(results)\n",
    "\n",
    "<Calculate and print the total profit/loss overall>\n",
    "```    \n",
    "`Note:` Take care when calculating whether we made a loss, or a profit on our sale!\n",
    "    \n",
    "_Adv Hint: There is such a function called zip, which can help iterate over two lists at once, should you wish to look this up. It is left out of here as to not overwhelm._"
   ]
  },
  {
   "cell_type": "code",
   "execution_count": 22,
   "id": "6724a07e",
   "metadata": {},
   "outputs": [
    {
     "name": "stdout",
     "output_type": "stream",
     "text": [
      "[2.0, -1.0500000000000007, 2.0100000000000016]\n"
     ]
    }
   ],
   "source": [
    "results = []\n",
    "bought_cost = [ 10.0, 12.55, 17.99 ] # Price you pay to the manufacturer for an item \n",
    "sale_price = [ 12.0, 11.50, 20.0 ] # Price you sell it for\n",
    "\n",
    "for i in range( len(bought_cost) ):\n",
    "    profit_or_loss = sale_price[i] - bought_cost[i]\n",
    "    results.append(profit_or_loss)\n",
    "    \n",
    "print(results)"
   ]
  },
  {
   "cell_type": "markdown",
   "id": "73cdae03",
   "metadata": {},
   "source": [
    "### Exercise 27:\n",
    "\n",
    "You are given the following dictionary:\n",
    "```\n",
    "student_records = {\n",
    "           \"Ada\": 98.0,\n",
    "          \"Bill\": 45.0,\n",
    "       \"Charlie\": 63.2\n",
    "}\n",
    "```\n",
    "You are then given two separate lists, one with names, and another with grades. You are to go through these lists, and insert the students correctly into the dictionary.\n",
    "```\n",
    "student_names= [\"Neva\",\"Kelley\",\"Emerson\"]\n",
    "student_grades= [72.2,64.9,32.0 ]\n",
    "```\n",
    "1. Ensure both lists are the same length: How might we check for this?\n",
    "2. Using a for loop, iterating in range sufficient for all the elements\n",
    "\n",
    "    a. Each iteration here represents an index. E.g. Index-0 is Neva and her grade.  \n",
    "    b. Insert these into the dictionary. \n",
    "\n",
    "Remember `dictionary[\"theKey\"] =value`. \"theKey\" can be replaced with any expression which evaluates as a string. It could be a variable, or another expression."
   ]
  },
  {
   "cell_type": "code",
   "execution_count": null,
   "id": "49a14f6d",
   "metadata": {},
   "outputs": [],
   "source": []
  },
  {
   "cell_type": "markdown",
   "id": "69f433a3",
   "metadata": {},
   "source": [
    "### Exercise 28:\n",
    "\n",
    "Using the `for k, v ... ` code example from the lecture slides, iterate over your newly modified dictionary, showing the new entries.\n"
   ]
  },
  {
   "cell_type": "code",
   "execution_count": null,
   "id": "fd1bcd17",
   "metadata": {},
   "outputs": [],
   "source": []
  },
  {
   "cell_type": "markdown",
   "id": "4e2fb32e",
   "metadata": {},
   "source": [
    "The Extended Exercises are `optional`, and are offered as an advanced supplement for those who have completed the existing work and wish to expand on their knowledge and challenge themselves further.\n",
    "---\n",
    "\n",
    "### Extended Exercise 1 - Blame Rob:\n",
    "\n",
    "Bubble sort is a naive sorting algorithm for taking an unordered list, and sorting them into ascending order. This is achieved by stepping through the entire list, comparing the current element to the next in the sequence. If the current element is greater than the following one, they are swapped in-place. The loop then continues until all elements are exhausted. The effect of this is that the largest number will bubble up through the list to the top. Once we’ve reached the top, we start the comparison again for a second pass, third pass, fourthpass, etc. This is repeated until the list is sorted. I.e. no swaps have occurred that pass.\n",
    "\n",
    "`L = [ `9, 2`, 12, 7]`\n",
    "Is 9 > 2 -> Yes. Swap them in-place. Move along by one.\n",
    "\n",
    "`L = [ 2, `9, 12`, 7]`\n",
    "Is 9 > 12 -> No. Do nothing. Move along by one.\n",
    "\n",
    "`L = [ 2, 9, `12, 7`]`\n",
    "Is 12 > 7 -> Yes. Swap them in-place. Move along by one.\n",
    "\n",
    "`L = [ 2, 9, 7 , 12]`\n",
    "We have run out of elements, start iterating from the beginning.\n",
    "\n",
    "`L = [`2, 9`, 7, 12]`\n",
    "`L = [2, `9, 7`, 12]` -> SWAP\n",
    "`L = [2, 7, `9, 12`]`\n",
    "\n",
    "Another pass\n",
    "`L = [`2, 7`, 9, 12]`\n",
    "`L = [2, `7, 9`, 12]`\n",
    "`L = [2, 7, `9, 12`]`\n",
    "\n",
    "No swaps have been made this pass -> terminate, the list should now be sorted.\n",
    "\n",
    "Your task (should you wish this optional exercise) is for you to manually implement the above Bubble sort algorithm for a given list. _If you copy any Bubble sort code from the internet you will have achieved nothing! It is not a test of your ability to copy and paste, but to write code from a provided specification. Further, any code copied from elsewhere and pasted into your classwork should cite the source where it originated from; to do otherwise would be an academic misconduct offence as outlined in the course induction. Research is scholarly, but copying without citation is not._"
   ]
  },
  {
   "cell_type": "code",
   "execution_count": null,
   "id": "0d60f499",
   "metadata": {},
   "outputs": [],
   "source": []
  }
 ],
 "metadata": {
  "kernelspec": {
   "display_name": "Python 3 (ipykernel)",
   "language": "python",
   "name": "python3"
  },
  "language_info": {
   "codemirror_mode": {
    "name": "ipython",
    "version": 3
   },
   "file_extension": ".py",
   "mimetype": "text/x-python",
   "name": "python",
   "nbconvert_exporter": "python",
   "pygments_lexer": "ipython3",
   "version": "3.13.2"
  }
 },
 "nbformat": 4,
 "nbformat_minor": 5
}
