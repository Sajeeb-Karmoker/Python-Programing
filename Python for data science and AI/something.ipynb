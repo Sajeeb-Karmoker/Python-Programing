{
 "cells": [
  {
   "cell_type": "code",
   "execution_count": 1,
   "id": "3747b6a7-2866-4b9b-8a4e-3ed0b4ac4b62",
   "metadata": {},
   "outputs": [
    {
     "name": "stdout",
     "output_type": "stream",
     "text": [
      "item no. 0 : 2\n",
      "item no. 1 : 4\n",
      "item no. 2 : 5\n",
      "item no. 5 : 7\n",
      "item no. 6 : 3\n",
      "summation: 21\n"
     ]
    }
   ],
   "source": [
    "A= [2,4,5,-2,0,7,3]\n",
    "total = 0\n",
    "for i in range(len(A)):\n",
    "    if A[i]>0:\n",
    "         #total = total+i\n",
    "   \n",
    "         print(\"item no.\",i,\":\",A[i])\n",
    "         total += A[i]\n",
    "\n",
    "print(\"summation:\",total)\n"
   ]
  },
  {
   "cell_type": "code",
   "execution_count": 2,
   "id": "e67a87d5-b1ff-4ba8-ba18-17936e8832d7",
   "metadata": {},
   "outputs": [
    {
     "name": "stdout",
     "output_type": "stream",
     "text": [
      "practice\n"
     ]
    }
   ],
   "source": [
    "def new_function():\n",
    "    print(\"practice\")\n",
    "\n",
    "    \n",
    "new_function()"
   ]
  },
  {
   "cell_type": "code",
   "execution_count": 3,
   "id": "55f9e0c1-d830-4189-991c-7b23821c153a",
   "metadata": {},
   "outputs": [
    {
     "name": "stdout",
     "output_type": "stream",
     "text": [
      "practice\n",
      "None\n",
      "<class 'NoneType'>\n"
     ]
    }
   ],
   "source": [
    "variable_name = new_function()\n",
    "\n",
    "print(variable_name)\n",
    "print(type(variable_name))\n"
   ]
  },
  {
   "cell_type": "code",
   "execution_count": 4,
   "id": "8879f29b-ac94-4961-bea9-15188967c67e",
   "metadata": {},
   "outputs": [],
   "source": [
    "def new_function(tigerrrr):\n",
    "    print(tigerrrr)\n",
    "\n",
    "    "
   ]
  },
  {
   "cell_type": "code",
   "execution_count": 5,
   "id": "03ffbc1f-f6f8-474b-8ec4-84568c58f0b3",
   "metadata": {},
   "outputs": [
    {
     "name": "stdout",
     "output_type": "stream",
     "text": [
      "tiger\n"
     ]
    }
   ],
   "source": [
    "new_function('tiger')"
   ]
  },
  {
   "cell_type": "code",
   "execution_count": 6,
   "id": "d2b6aaaa-8434-4f36-bd4c-bb54e77e056d",
   "metadata": {},
   "outputs": [
    {
     "name": "stdout",
     "output_type": "stream",
     "text": [
      "bengal tiger\n"
     ]
    }
   ],
   "source": [
    "def new_function(tigerrrr = \"bengal tiger\"):\n",
    "    print(tigerrrr)\n",
    "new_function()"
   ]
  },
  {
   "cell_type": "code",
   "execution_count": 7,
   "id": "1b0a81e7-f316-4043-b096-c268ef0fc7e9",
   "metadata": {},
   "outputs": [],
   "source": [
    "import random\n"
   ]
  },
  {
   "cell_type": "code",
   "execution_count": 8,
   "id": "071d1b51-0892-45a3-aecb-34115a906630",
   "metadata": {},
   "outputs": [
    {
     "name": "stdout",
     "output_type": "stream",
     "text": [
      "happy birthday to you jow.\n",
      "how old are you??\n",
      "is you 40 years old?\n",
      "is you 5.1 feets?\n",
      "is you 77 KG?\n"
     ]
    }
   ],
   "source": [
    "def birthday_wish(name, age, hight, weight):\n",
    "    print(f\"happy birthday to you {name}.\")\n",
    "    print(\"how old are you??\")\n",
    "    print(f\"is you {age} years old?\")\n",
    "    print(f\"is you {hight} feets?\")\n",
    "    print(f\"is you {weight} KG?\")\n",
    "\n",
    "\n",
    "    \n",
    "    \n",
    "\n",
    "birthday_wish(\"jow\",40,5.10,77)\n",
    "\n",
    "#birthday_wish(\"tina\",33)\n",
    "\n",
    "#birthday_wish(\"bob\",22)\n"
   ]
  },
  {
   "cell_type": "code",
   "execution_count": 9,
   "id": "04af24f7-9dd7-4e7e-88ea-e03b5e38cc2b",
   "metadata": {},
   "outputs": [
    {
     "name": "stdout",
     "output_type": "stream",
     "text": [
      "hello joly\n",
      "your payment is pound:200.50\n",
      "last date is: 20/04/2025\n",
      "Into the: HSBC bank\n"
     ]
    }
   ],
   "source": [
    "def payment_invoice(name, amount, due_date, bank_name):\n",
    "    print(f\"hello {name}\")\n",
    "    print(f\"your payment is pound:{amount:.2f}\")\n",
    "    print(f\"last date is: {due_date}\")\n",
    "    print(f\"Into the: {bank_name}\")\n",
    "    \n",
    "payment_invoice(\"joly\", 200.50, \"20/04/2025\", \"HSBC bank\")\n",
    "\n",
    "\n"
   ]
  },
  {
   "cell_type": "code",
   "execution_count": 10,
   "id": "4fcba113-c2ab-45ee-9434-67bd924bd188",
   "metadata": {},
   "outputs": [
    {
     "name": "stdout",
     "output_type": "stream",
     "text": [
      "13\n",
      "-1\n",
      "42\n",
      "6.0\n"
     ]
    }
   ],
   "source": [
    "def add(x, y):\n",
    "    result = x + y\n",
    "    return result\n",
    "def sub(x, y):\n",
    "    result = x - y\n",
    "    return result\n",
    "def mul(x, y):\n",
    "    result = x * y\n",
    "    return result\n",
    "\n",
    "def div(x, y):\n",
    "    result = x / y\n",
    "    return result\n",
    "\n",
    "print(add(6,7))\n",
    "print(sub(6,7))\n",
    "print(mul(6,7))\n",
    "print(div(30,5))\n",
    "\n",
    "    \n",
    "    \n",
    "    \n",
    "    "
   ]
  },
  {
   "cell_type": "code",
   "execution_count": 11,
   "id": "fb6829aa-e48c-4dd6-a95b-d60af1baaba1",
   "metadata": {},
   "outputs": [
    {
     "name": "stdout",
     "output_type": "stream",
     "text": [
      "taco cat\n",
      "bob\n",
      "davey\n"
     ]
    }
   ],
   "source": [
    "input_list = [ 'taco cat', 'bob', 'davey' ]\n",
    "for i in input_list:\n",
    "    print(i)\n",
    "          \n",
    "#print(len(cars))\n",
    "\n",
    "    \n",
    "#for i in cars:\n",
    "    #print(i)"
   ]
  },
  {
   "cell_type": "code",
   "execution_count": 12,
   "id": "f6a6940e-90b0-4503-bfda-cab94f648c85",
   "metadata": {},
   "outputs": [
    {
     "ename": "NameError",
     "evalue": "name 'cars' is not defined",
     "output_type": "error",
     "traceback": [
      "\u001b[1;31m---------------------------------------------------------------------------\u001b[0m",
      "\u001b[1;31mNameError\u001b[0m                                 Traceback (most recent call last)",
      "Cell \u001b[1;32mIn[12], line 1\u001b[0m\n\u001b[1;32m----> 1\u001b[0m \u001b[38;5;28;01mif\u001b[39;00m \u001b[38;5;28mlen\u001b[39m(\u001b[43mcars\u001b[49m) \u001b[38;5;241m==\u001b[39m \u001b[38;5;28mlen\u001b[39m(cars[::\u001b[38;5;241m-\u001b[39m\u001b[38;5;241m1\u001b[39m]):\n\u001b[0;32m      2\u001b[0m     \u001b[38;5;28mprint\u001b[39m(\u001b[38;5;124m\"\u001b[39m\u001b[38;5;124mpelindrom\u001b[39m\u001b[38;5;124m\"\u001b[39m)\n\u001b[0;32m      3\u001b[0m \u001b[38;5;28;01melse\u001b[39;00m:\n",
      "\u001b[1;31mNameError\u001b[0m: name 'cars' is not defined"
     ]
    }
   ],
   "source": [
    "if len(cars) == len(cars[::-1]):\n",
    "    print(\"pelindrom\")\n",
    "else:\n",
    "    print(\"not pelindrom\")\n",
    "    "
   ]
  },
  {
   "cell_type": "code",
   "execution_count": 13,
   "id": "16abbed9-59ca-4ebc-a155-5bb5d9400363",
   "metadata": {},
   "outputs": [
    {
     "ename": "SyntaxError",
     "evalue": "invalid character '“' (U+201C) (635188854.py, line 1)",
     "output_type": "error",
     "traceback": [
      "\u001b[1;36m  Cell \u001b[1;32mIn[13], line 1\u001b[1;36m\u001b[0m\n\u001b[1;33m    input_list = [ “taco cat”, “bob”, “davey” ]\u001b[0m\n\u001b[1;37m                   ^\u001b[0m\n\u001b[1;31mSyntaxError\u001b[0m\u001b[1;31m:\u001b[0m invalid character '“' (U+201C)\n"
     ]
    }
   ],
   "source": [
    "input_list = [ “taco cat”, “bob”, “davey” ]\n",
    "def palindromes():\n",
    "       \n",
    "       if input_list[i] == input_list[::-1]:\n",
    "              print(\"true\")\n",
    "       else:\n",
    "              print(\"false\")\n",
    "              \n",
    "    \n"
   ]
  },
  {
   "cell_type": "code",
   "execution_count": 20,
   "id": "b4f482bc-e916-4159-9ae6-07c4e22eb90b",
   "metadata": {},
   "outputs": [
    {
     "name": "stdout",
     "output_type": "stream",
     "text": [
      "*\n",
      "**\n",
      "***\n",
      "****\n",
      "*****\n"
     ]
    }
   ],
   "source": [
    "row = 5\n",
    "for i in range(1, row+1):\n",
    "    print(\"*\" * i)\n"
   ]
  },
  {
   "cell_type": "code",
   "execution_count": 33,
   "id": "3db60cb0-5757-4e36-bfa4-e5947ca75cd1",
   "metadata": {},
   "outputs": [
    {
     "name": "stdout",
     "output_type": "stream",
     "text": [
      "    *\n",
      "   **\n",
      "  ***\n",
      " ****\n",
      "*****\n"
     ]
    }
   ],
   "source": [
    "row = 5\n",
    "for i in range(1, row+1):\n",
    "    print(\" \" * (row-i) + \"*\" * i)\n"
   ]
  },
  {
   "cell_type": "code",
   "execution_count": 30,
   "id": "0a8c67fa-2f8c-4358-8901-59c8a8b0fc91",
   "metadata": {},
   "outputs": [
    {
     "name": "stdout",
     "output_type": "stream",
     "text": [
      "#####\n",
      "####\n",
      "###\n",
      "##\n",
      "#\n"
     ]
    }
   ],
   "source": [
    "row = 5\n",
    "for i in range(row, 0, -1):\n",
    "    print( \"#\" * i)"
   ]
  },
  {
   "cell_type": "code",
   "execution_count": 32,
   "id": "f4b0ca7f-97de-42b2-9046-af8f9207a1d6",
   "metadata": {},
   "outputs": [
    {
     "name": "stdout",
     "output_type": "stream",
     "text": [
      "    *\n",
      "   ***\n",
      "  *****\n",
      " *******\n",
      "*********\n"
     ]
    }
   ],
   "source": [
    "row = 5\n",
    "for i in range(1, row+1):\n",
    "    print(\" \" * (row - i) + \"*\" * (2*i-1))"
   ]
  },
  {
   "cell_type": "code",
   "execution_count": 35,
   "id": "1329e5ec-91e9-4c03-b049-e90535549786",
   "metadata": {},
   "outputs": [
    {
     "name": "stdout",
     "output_type": "stream",
     "text": [
      "    *\n",
      "   ***\n",
      "  *****\n",
      " *******\n",
      "*********\n",
      " *******\n",
      "  *****\n",
      "   ***\n",
      "    *\n"
     ]
    }
   ],
   "source": [
    "row = 5\n",
    "for i in range(1, row+1):\n",
    "    print(\" \" * (row - i) + \"*\" * (2*i-1))\n",
    "\n",
    "for i in range(row-1,0,-1):\n",
    "    print(\" \" * (row - i) + \"*\" * (2*i-1))"
   ]
  },
  {
   "cell_type": "code",
   "execution_count": 6,
   "id": "b630294e-486e-44d4-ab99-9df999707258",
   "metadata": {},
   "outputs": [
    {
     "name": "stdout",
     "output_type": "stream",
     "text": [
      "it is even\n"
     ]
    }
   ],
   "source": [
    "def even(n):\n",
    "    if n % 2 ==  0:\n",
    "        print(\"it is even\")\n",
    "    else:\n",
    "        print(\"odd\")\n",
    "    return\n",
    "even(-22)"
   ]
  },
  {
   "cell_type": "code",
   "execution_count": 3,
   "id": "0c78caf1-9801-4feb-9a35-47e09e871e23",
   "metadata": {},
   "outputs": [
    {
     "name": "stdout",
     "output_type": "stream",
     "text": [
      "1\n",
      "2\n",
      "3\n",
      "4\n",
      "5\n",
      "6\n",
      "7\n",
      "8\n",
      "9\n",
      "10\n"
     ]
    }
   ],
   "source": [
    "counter = 0 +1\n",
    "while counter  <=  10:\n",
    "    print(counter)\n",
    "    counter = counter + 1"
   ]
  },
  {
   "cell_type": "code",
   "execution_count": 11,
   "id": "80e3ec7a-e078-40bd-97b1-b38b09cf455c",
   "metadata": {},
   "outputs": [
    {
     "name": "stdout",
     "output_type": "stream",
     "text": [
      "5\n",
      "5\n",
      "10\n",
      "15\n",
      "15\n",
      "30\n"
     ]
    }
   ],
   "source": [
    "sum_numbers = 0\n",
    "for i in range(5,20,5):\n",
    "    print(i)\n",
    "    sum_numbers = sum_numbers+i\n",
    "    print(sum_numbers)\n",
    "\n"
   ]
  },
  {
   "cell_type": "code",
   "execution_count": 19,
   "id": "c779d9de-cffc-4eae-baa4-689067b04c7d",
   "metadata": {},
   "outputs": [
    {
     "name": "stdout",
     "output_type": "stream",
     "text": [
      "salary number 5\n",
      "salary number 10\n",
      "salary number 15\n",
      "total salary 30\n"
     ]
    }
   ],
   "source": [
    "salary_sum = 0\n",
    "for n in range(5, 20, 5):\n",
    "    print(\"salary number\",n)\n",
    "    salary_sum = salary_sum + n\n",
    "print(\"total salary\", salary_sum)"
   ]
  }
 ],
 "metadata": {
  "kernelspec": {
   "display_name": "Python 3 (ipykernel)",
   "language": "python",
   "name": "python3"
  },
  "language_info": {
   "codemirror_mode": {
    "name": "ipython",
    "version": 3
   },
   "file_extension": ".py",
   "mimetype": "text/x-python",
   "name": "python",
   "nbconvert_exporter": "python",
   "pygments_lexer": "ipython3",
   "version": "3.13.2"
  }
 },
 "nbformat": 4,
 "nbformat_minor": 5
}
