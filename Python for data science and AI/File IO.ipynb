{
 "cells": [
  {
   "cell_type": "markdown",
   "metadata": {},
   "source": [
    "# File IO in Python\n",
    "\n",
    "Python provides us with built-in mechanisms (functions, libraries, etc) which enable us to interact with files on the computer which is running Python.\n",
    "\n",
    "<u>Why do we want to programmatically store and read data?</u>\n",
    "* For Data Science, this is how we might read in some raw data and process it ready for other analysis.\n",
    "* If we have written procedures for calculations, etc, putting these in manually via processes such as `input` or by hand by the programmer is inefficient. We want to do bulk processing.\n",
    "\n",
    "Python provides built-ins for dealing with files (often called <u>file descriptors</u>). Python knows how to talk to the Operating system. It doesn't matter whether it's Windows, Mac, or Linux! Python handles all that complex stuff for you."
   ]
  },
  {
   "cell_type": "markdown",
   "metadata": {},
   "source": [
    "## Opening files\n",
    "\n",
    "Python provides a function called `open()` which accepts various arguments (https://docs.python.org/3.8/library/functions.html#open). And some examples for after this lecture (https://docs.python.org/3.8/tutorial/inputoutput.html#tut-files).\n",
    "\n",
    "We are concerned with file, and mode for now. You must provide it with a file. Other keywords, such as mode are optional.\n",
    "\n",
    "Example, this will open a file called my_file.txt. I'm telling the function to set mode to 'r', which stands for 'read mode'. I will only be allowed to read the contents, not write anything to the file (or modify its contents).\n",
    "```python\n",
    "f = open('my_file.txt', mode='r')\n",
    "```"
   ]
  },
  {
   "cell_type": "markdown",
   "metadata": {},
   "source": [
    "### Local vs Absolute File Paths\n",
    "The first arugment, is always a file path. These can come in two flavours:\n",
    "\n",
    "1) <u>Local</u> - These are relative the Pythons current directory. Typically the same directory your ipynb is in. If you're in \"My Documents\" it will look for files there.\n",
    "E.g `\"my_file.txt\"`, or `\"./my_file.txt\"`\n",
    "\n",
    "2) <u>Absolute</u> - These are the full file paths. These will work regardless of where your python script is executed from. E.g `\"C:/Users/Ashley/Downloads/my_file.txt\"`"
   ]
  },
  {
   "cell_type": "markdown",
   "metadata": {},
   "source": [
    "### Open Modes\n",
    "With files we may want to open them with different permissions. This depends on what our purpose for opening the file is. Are we wanting to just read the contents? Or do we need to modify the data of the file itself?\n",
    "Secondly, are we dealing with plaintext (E.g English readable text), or are we dealing with raw data (Bytes - Those 1's and 0's, binary data).\n",
    "\n",
    "* `r` - Open file for reading (default)\n",
    "* `w` - Open file for writing (this will completely destroy anything there first!)\n",
    "* `a` - Append. Open the file for writing, but will add to the end rather than destroying it.\n",
    "--\n",
    "* `b` - Binary mode.\n",
    "* `t` - Default text mode.\n",
    "\n",
    "We can mix and match the symbols above for the mode string. \n",
    "E.g:\n",
    "\n",
    "`mode='r'`, or `mode='rb'` (Read text vs Read bytes). \n",
    "\n",
    "`mode='w'`, or `mode='a'` (Write file - overwrites. Vs Appending)\n",
    "\n",
    "\n",
    "```python\n",
    "f = open('my_file.txt', mode=\"a\") # Remember \"\" or '', interchangeable.\n",
    "```\n",
    "\n",
    "By Default, if I don't specify `b`, all of these modes will be dealing with normal text. This is what we'll be using throughout. But bytes do have their place!"
   ]
  },
  {
   "cell_type": "markdown",
   "metadata": {},
   "source": [
    "<center>\n",
    "    <b>Example opening Binary file in Text Editor (bad)</b>   \n",
    "    <img width=50%, src=\"https://www.nayuki.io/res/what-are-binary-and-text-files/binary-file-in-text-editor.png\">"
   ]
  },
  {
   "cell_type": "markdown",
   "metadata": {},
   "source": [
    "## Reading/Writing Files (https://docs.python.org/3.8/tutorial/inputoutput.html#reading-and-writing-files)\n",
    "\n",
    "Once we successfully open our file, the variable becomes the type of File Object (TextIOWrapper)"
   ]
  },
  {
   "cell_type": "code",
   "execution_count": 1,
   "metadata": {},
   "outputs": [
    {
     "name": "stdout",
     "output_type": "stream",
     "text": [
      "<class '_io.TextIOWrapper'>\n"
     ]
    }
   ],
   "source": [
    "f = open('my_file.txt')\n",
    "print( type(f) )"
   ]
  },
  {
   "cell_type": "markdown",
   "metadata": {},
   "source": [
    "These objects have some methods we can use. (https://docs.python.org/3.8/library/io.html#io.TextIOWrapper)\n",
    "\n",
    "* `readline` - Allows us to read in a single line from our file. If we do this iteratively, it gets the next line.\n",
    "```python\n",
    "f = open('long_text.txt')\n",
    "print(f.readline())\n",
    "```\n",
    "\n",
    "* `write` - This accepts a string (in the case of text), which we can write. This will be our 'line'. Remember: Are we in write mode or append mode? If append mode, this will go at the end of the file.\n",
    "```python\n",
    "f = open('junk.txt', mode='a')\n",
    "f.write(\"After the war, I went back to New York\")\n",
    "\n",
    "* `readlines` - Same as `readline` however it returns a list of ALL lines in the file.\n",
    "* `writelines` - Same as `write` however it writes a List of lines to the file. (Remember the mode!)"
   ]
  },
  {
   "cell_type": "code",
   "execution_count": 2,
   "metadata": {},
   "outputs": [
    {
     "name": "stdout",
     "output_type": "stream",
     "text": [
      "Dear Theodosia, what to say to you?\n",
      "\n"
     ]
    }
   ],
   "source": [
    "f = open('long_text.txt')\n",
    "print(f.readline())"
   ]
  },
  {
   "cell_type": "code",
   "execution_count": 3,
   "metadata": {},
   "outputs": [
    {
     "name": "stdout",
     "output_type": "stream",
     "text": [
      "Dear Theodosia, what to say to you?\n",
      "\n",
      "You have my eyes\n",
      "\n",
      "You have your mother's name\n",
      "\n"
     ]
    }
   ],
   "source": [
    "f = open('long_text.txt')\n",
    "print(f.readline())\n",
    "print(f.readline()) # Each call to this will get the next line and so on.\n",
    "print(f.readline())"
   ]
  },
  {
   "cell_type": "code",
   "execution_count": 5,
   "metadata": {},
   "outputs": [
    {
     "name": "stdout",
     "output_type": "stream",
     "text": [
      "['After the war, I went back to New York']\n"
     ]
    }
   ],
   "source": [
    "f = open('junk.txt', mode='w') # Overwrites anything in the file with what I'm about to put.\n",
    "f.write(\"After the war, I went back to New York\") # It will spit out how many characters were written.\n",
    "\n",
    "f = open('junk.txt', mode='r') # Let's prove it's there!\n",
    "print(f.readlines())"
   ]
  },
  {
   "cell_type": "code",
   "execution_count": 6,
   "metadata": {},
   "outputs": [
    {
     "name": "stdout",
     "output_type": "stream",
     "text": [
      "After the war, I went back to New YorkMmmbop, ba duba dopBa du bop, ba duba dopBa du bop, ba duba dop\n"
     ]
    }
   ],
   "source": [
    "f = open('junk.txt', mode='a') # Let's append some more lyrics.\n",
    "my_lines = [\n",
    "    \"Mmmbop, ba duba dop\",\n",
    "    \"Ba du bop, ba duba dop\",\n",
    "    \"Ba du bop, ba duba dop\"\n",
    "]\n",
    "f.writelines(my_lines) # No return for this one.\n",
    "\n",
    "#Prove to ourselves.\n",
    "f = open('junk.txt', mode='r')\n",
    "for entry in f.readlines():\n",
    "    print(entry)\n",
    "\n",
    "#Uh-Oh! Where's our new lines?\n",
    "# From Docs: \"Line separators are not added, so it is usual for each of the lines provided to have a line separator at the end.\"\n",
    "# We need to add \"\\n\"  which is a special newline character to each of our lines :(\n"
   ]
  },
  {
   "cell_type": "code",
   "execution_count": 11,
   "metadata": {},
   "outputs": [
    {
     "name": "stdout",
     "output_type": "stream",
     "text": [
      "0 Mmmbop, ba duba dop\n",
      "\n",
      "1 Ba du bop, ba duba dop\n",
      "\n",
      "2 Ba du bop, ba duba dop\n",
      "\n",
      "['Mmmbop, ba duba dop\\n', 'Ba du bop, ba duba dop\\n', 'Ba du bop, ba duba dop\\n']\n"
     ]
    }
   ],
   "source": [
    "f = open('junk.txt', mode='w') # WRITE MODE\n",
    "my_lines = [\n",
    "    \"Mmmbop, ba duba dop\\n\",\n",
    "    \"Ba du bop, ba duba dop\\n\",\n",
    "    \"Ba du bop, ba duba dop\\n\"\n",
    "]\n",
    "f.writelines(my_lines) # No return for this one.\n",
    "\n",
    "#Prove to ourselves.\n",
    "f = open('junk.txt', mode='r')\n",
    "lines = f.readlines()\n",
    "for i, entry in enumerate(lines):\n",
    "    print(i, entry)\n",
    "    \n",
    "print(lines)\n",
    "    \n",
    "# Three distinct entries!"
   ]
  },
  {
   "cell_type": "code",
   "execution_count": 15,
   "metadata": {},
   "outputs": [
    {
     "name": "stdout",
     "output_type": "stream",
     "text": [
      "Mmmbop, ba duba dop\n",
      "Ba du bop, ba duba dop\n",
      "Ba du bop, ba duba dop\n",
      "1\n"
     ]
    }
   ],
   "source": [
    "f = open('junk.txt', mode='w') # WRITE MODE\n",
    "my_lines = [\n",
    "    \"Mmmbop, ba duba dop\",\n",
    "    \"Ba du bop, ba duba dop\",\n",
    "    \"Ba du bop, ba duba dop\"\n",
    "]\n",
    "# f.writelines(my_lines) # No return for this one.\n",
    "for lyric in my_lines:\n",
    "    print(lyric)\n",
    "    f.write(lyric)\n",
    "    \n",
    "f = open('junk.txt', mode='r')\n",
    "lines = f.readlines()\n",
    "print(len(lines))"
   ]
  },
  {
   "cell_type": "markdown",
   "metadata": {},
   "source": [
    "# Introduction to Common file Types.\n",
    "We often represent files with certain types. Think about the files you commonly use: docx, pdf, etc. These are specific ways a file is formatted so that it is understandable.\n",
    "\n",
    "<u>Why do we need these files?</u>\n",
    "Transfer, common representations. Both sides can understand this format.\n",
    "E.g If I give you a PDF, your browser knows how to interpret that data to display something. Likewise you can export a PDF and I can read it. Same goes for any data format we use! (Even ipynb)\n",
    "\n",
    "## CSV\n",
    "CSV stands for Comma-Separated Values. It is arguably the simplest form of data format we use today. (Microsoft Teams spits out attendance in this format!).\n",
    "\n",
    "It is simplistic, with each row representing some data entity (record). This could be a person, or a single data entry. Typically we use the columns of such a data format to store attributes. This could be a person's age, e-mail, date of birth, etc.\n",
    "\n",
    "Each value is separated by a comma. If the data entry is empty, we still need to put the comma.\n",
    "\n",
    "This data format is **flat**, it has no inherent structure other than a table. Just values separated by commas. We often use the first row of a CSV file to denote the names of the headers - otherwise it can be difficult to know what each field is meant to be.\n",
    "\n",
    "If we want to represent rich data here, with structure (Think Lists within Dictionaries, Dictionaries within Dictionaries, Dictionaries within Lists), we have to flatten everything first. We can lose some important context to data this way, and it can be tricky to manage.\n",
    "\n",
    "<center>\n",
    "    <b>CSV (Nice Example):</b>\n",
    "<img src=\"https://cdn.analyticsvidhya.com/wp-content/uploads/2017/02/27131537/DF_1.png\"></img>\n",
    "<br>\n",
    "<b>CSV (Not so nice):</b>\n",
    "<img src=\"https://www.howtogeek.com/wp-content/uploads/2018/04/img_5acfaa319c745.png\"></img>\n",
    "<br>"
   ]
  },
  {
   "cell_type": "markdown",
   "metadata": {},
   "source": [
    "## JSON\n",
    "JSON stands for JavaScript Object Notation. It is primarily used for web data communication (Between your browser and the web server), as the data can only be text (for the most part). The concept behind this was to have a rich data format which facilitated easy communication between browser and the server by having a format which closely resembles the one used by the language itself.\n",
    "\n",
    "As this format was widely adopted by the web, other fields began to adopt it for their purposes. You will commonly find JSON used as file formats in non-web related domains.\n",
    "\n",
    "JSON is far more complex as a notation, with use of `{}`, `:`, `,`, `\"\"`, etc. In-fact, JSON objects share a striking similarity with the Dictionaries we've been using in Python!\n",
    "\n",
    "As it allows such a rich description of the data, it enables us to not only store values, but also the structure of the data itself! It enables us to have nested structures (Dict in a Dict, etc).\n",
    "\n",
    "<center>\n",
    "<b>JSON (Example):</b>\n",
    "<img src=\"https://alexwebdevelop.com/wp-content/uploads/2020/05/json-nested-objects.png\"></img>\n",
    "<br>"
   ]
  },
  {
   "cell_type": "markdown",
   "metadata": {},
   "source": [
    "## Other Types? XML, YAML - Many more\n",
    "CSV and JSON are not the only data formats available to us. Many more exists, a common example is XML.\n",
    "\n",
    "Readability is an important aspect of data formats. Especially where humans are meant to interact with them. E.g Lots of Microsoft data output is XML, and is overly verbose!\n",
    "\n",
    "Anybody can make a data format, and decide what things mean. It's wide-spread adoption and usefulness which dictates how good of a data format it is!\n",
    "\n",
    "<center>\n",
    "    <b>XML (Example, overly verbose, lots of tags, looks very 'HTML'-esque):</b>\n",
    "<img src=\"https://i2.sitepoint.com/graphics/achapter01-rawxmlie.png\"></img>"
   ]
  },
  {
   "cell_type": "markdown",
   "metadata": {},
   "source": [
    "# Exceptions\n",
    "You may have already encountered errors before now when doing workshops. Think back to Workshop 1! `\"Grace\" + 5`. So far these have just been red scary messages which we can't do anything about. Python executes the problematic code and something bad happens (blows up at runtime).\n",
    "\n",
    "```python\n",
    "x = \"Grace\" + 5\n",
    "```"
   ]
  },
  {
   "cell_type": "code",
   "execution_count": 16,
   "metadata": {},
   "outputs": [
    {
     "ename": "TypeError",
     "evalue": "can only concatenate str (not \"int\") to str",
     "output_type": "error",
     "traceback": [
      "\u001b[0;31m---------------------------------------------------------------------------\u001b[0m",
      "\u001b[0;31mTypeError\u001b[0m                                 Traceback (most recent call last)",
      "\u001b[0;32m<ipython-input-16-874f4c2d5fc1>\u001b[0m in \u001b[0;36m<module>\u001b[0;34m\u001b[0m\n\u001b[0;32m----> 1\u001b[0;31m \u001b[0mx\u001b[0m \u001b[0;34m=\u001b[0m \u001b[0;34m\"Grace\"\u001b[0m \u001b[0;34m+\u001b[0m \u001b[0;36m5\u001b[0m\u001b[0;34m\u001b[0m\u001b[0;34m\u001b[0m\u001b[0m\n\u001b[0m",
      "\u001b[0;31mTypeError\u001b[0m: can only concatenate str (not \"int\") to str"
     ]
    }
   ],
   "source": [
    "x = \"Grace\" + 5"
   ]
  },
  {
   "cell_type": "markdown",
   "metadata": {},
   "source": [
    "Python provides a way to 'catch' errors that are thrown. It allows us to attempt code that we know may be 'risky', and to do something if that error is encountered.\n",
    "\n",
    "We need to introduce two new keywords to you. `try` and `except`. It follows the general formula:\n",
    "\n",
    "```python\n",
    "try:\n",
    "    # 'Risky' code here\n",
    "except SomeExceptionType as friendly_name:\n",
    "    # Do something with friendly_name\n",
    "```"
   ]
  },
  {
   "cell_type": "code",
   "execution_count": 17,
   "metadata": {},
   "outputs": [
    {
     "name": "stdout",
     "output_type": "stream",
     "text": [
      "can only concatenate str (not \"int\") to str\n",
      "<class 'TypeError'>\n"
     ]
    }
   ],
   "source": [
    "try:\n",
    "    x = \"Grace\" + 5\n",
    "except Exception as err:\n",
    "    print(err)\n",
    "    print(type(err))"
   ]
  },
  {
   "cell_type": "markdown",
   "metadata": {},
   "source": [
    "You may notice two things here:\n",
    "1) `Exception` is a Type. All Errors in Python are actually Types. This allows us to check for them, and even derive from them.\n",
    "\n",
    "2) `Exception` is the most generic type of error we can have. In-fact, ALL other errors in Python stem from this. `Exception` will catch literally ANY and ALL errors. Notice how that the Type of our error here was `TypeError` yet it entered the `Exception` Type block. This is the equivalent of saying `Dog` is a type of `Animal`. Therefore, if we're catching all animals, of course Dog matches this."
   ]
  },
  {
   "cell_type": "markdown",
   "metadata": {},
   "source": [
    "In general, it is a good idea to use specific errors. This is beneficial as it allows you to execute specific code in response.\n",
    "We can stack as many `except` clauses here as we need.\n",
    "\n",
    "E.g\n",
    "```python\n",
    "try:\n",
    "    x = \"Grace\" + 5\n",
    "except TypeError as e:\n",
    "    print(\"Specific\")\n",
    "except Exception as err:\n",
    "    print(\"Catch-all\")\n",
    "```"
   ]
  },
  {
   "cell_type": "code",
   "execution_count": 18,
   "metadata": {},
   "outputs": [
    {
     "name": "stdout",
     "output_type": "stream",
     "text": [
      "Specific\n"
     ]
    }
   ],
   "source": [
    "try:\n",
    "    x = \"Grace\" + 5\n",
    "except TypeError as e:\n",
    "    print(\"Specific\")\n",
    "except Exception as err:\n",
    "    print(\"Catch-all\")"
   ]
  },
  {
   "cell_type": "markdown",
   "metadata": {},
   "source": [
    "<u><b>Note:</u></b>\n",
    "Python will match the most specific type of error. It will only match a single `except` clause here. Notice how it never prints \"Catch-all\"?\n",
    "\n",
    "What if we modify our `try` block, let's make some Arithmetic Errors!"
   ]
  },
  {
   "cell_type": "code",
   "execution_count": 21,
   "metadata": {},
   "outputs": [
    {
     "name": "stdout",
     "output_type": "stream",
     "text": [
      "Catch-all\n",
      "<class 'ZeroDivisionError'>\n"
     ]
    }
   ],
   "source": [
    "try:\n",
    "    x = 5 / 0\n",
    "except TypeError as e:\n",
    "    print(\"Specific\")\n",
    "except Exception as err:\n",
    "    print(\"Catch-all\")\n",
    "    print(type(err))"
   ]
  },
  {
   "cell_type": "markdown",
   "metadata": {},
   "source": [
    "I've done a bad thing with numbers. Dividing by Zero is a `ZeroDivisionError`, which is a form of `ArtithmeticError`. Because I haven't written a `except` clause for it, it's gone to the only one which fits: `Exception` (that wonderful most generic of errors).\n",
    "\n",
    "<u> What if I didn't have `except Exception:` there?</u> \n",
    "\n",
    "Well, then it would behave as your Python scripts have thus far. Python will error out, red text everywhere!"
   ]
  },
  {
   "cell_type": "code",
   "execution_count": null,
   "metadata": {},
   "outputs": [],
   "source": [
    "try:\n",
    "    x = 5 / 0\n",
    "except TypeError as e:\n",
    "    print(\"Specific\")\n",
    "#except Exception as err:\n",
    "#    print(\"Catch-all\")\n",
    "#    print(type(err))"
   ]
  },
  {
   "cell_type": "markdown",
   "metadata": {},
   "source": [
    "You can see a whole bunch of built-in exceptions at the following documentation page: https://docs.python.org/3.8/library/exceptions.html"
   ]
  },
  {
   "cell_type": "markdown",
   "metadata": {},
   "source": [
    "## Exceptions in File Handling\n",
    "When looking at functions within the documentation. Developers should tell you what the various Exceptions that function can 'throw'. (https://docs.python.org/3.8/library/functions.html?highlight=open#open) However, it is not always clear!\n",
    "\n",
    "<u>How am I to know</u>. Lots of trial and error. If a new exception pops up that is expected, not just a mistake on your part, then you can write the exception clause for it!\n",
    "\n",
    "When opening a file, if it doesn't exist we'll get a `FileNotFoundError`.\n",
    "\n",
    "```python\n",
    "f = open('file_not_existing.txt')\n",
    "# Do some file stuff.\n",
    "print(f.read())\n",
    "print(\"All done with file stuff now. I should close it!\")\n",
    "f.close()\n",
    "```"
   ]
  },
  {
   "cell_type": "code",
   "execution_count": 22,
   "metadata": {},
   "outputs": [
    {
     "ename": "FileNotFoundError",
     "evalue": "[Errno 2] No such file or directory: 'file_not_existing.txt'",
     "output_type": "error",
     "traceback": [
      "\u001b[0;31m---------------------------------------------------------------------------\u001b[0m",
      "\u001b[0;31mFileNotFoundError\u001b[0m                         Traceback (most recent call last)",
      "\u001b[0;32m<ipython-input-22-0360e671f0c0>\u001b[0m in \u001b[0;36m<module>\u001b[0;34m\u001b[0m\n\u001b[0;32m----> 1\u001b[0;31m \u001b[0mf\u001b[0m \u001b[0;34m=\u001b[0m \u001b[0mopen\u001b[0m\u001b[0;34m(\u001b[0m\u001b[0;34m'file_not_existing.txt'\u001b[0m\u001b[0;34m)\u001b[0m\u001b[0;34m\u001b[0m\u001b[0;34m\u001b[0m\u001b[0m\n\u001b[0m\u001b[1;32m      2\u001b[0m \u001b[0;31m# Do some file stuff.\u001b[0m\u001b[0;34m\u001b[0m\u001b[0;34m\u001b[0m\u001b[0;34m\u001b[0m\u001b[0m\n\u001b[1;32m      3\u001b[0m \u001b[0mprint\u001b[0m\u001b[0;34m(\u001b[0m\u001b[0mf\u001b[0m\u001b[0;34m.\u001b[0m\u001b[0mread\u001b[0m\u001b[0;34m(\u001b[0m\u001b[0;34m)\u001b[0m\u001b[0;34m)\u001b[0m\u001b[0;34m\u001b[0m\u001b[0;34m\u001b[0m\u001b[0m\n\u001b[1;32m      4\u001b[0m \u001b[0mprint\u001b[0m\u001b[0;34m(\u001b[0m\u001b[0;34m\"All done with file stuff now. I should close it!\"\u001b[0m\u001b[0;34m)\u001b[0m\u001b[0;34m\u001b[0m\u001b[0;34m\u001b[0m\u001b[0m\n\u001b[1;32m      5\u001b[0m \u001b[0mf\u001b[0m\u001b[0;34m.\u001b[0m\u001b[0mclose\u001b[0m\u001b[0;34m(\u001b[0m\u001b[0;34m)\u001b[0m\u001b[0;34m\u001b[0m\u001b[0;34m\u001b[0m\u001b[0m\n",
      "\u001b[0;31mFileNotFoundError\u001b[0m: [Errno 2] No such file or directory: 'file_not_existing.txt'"
     ]
    }
   ],
   "source": [
    "f = open('file_not_existing.txt')\n",
    "# Do some file stuff.\n",
    "print(f.read())\n",
    "print(\"All done with file stuff now. I should close it!\")\n",
    "f.close()"
   ]
  },
  {
   "cell_type": "code",
   "execution_count": 26,
   "metadata": {},
   "outputs": [
    {
     "name": "stdout",
     "output_type": "stream",
     "text": [
      "Whoops, we need an actual file!\n",
      "We can actually continue doing things though :)\n"
     ]
    }
   ],
   "source": [
    "f = None\n",
    "try:\n",
    "    f = open('file_not_existing.txt')\n",
    "except FileNotFoundError as err:\n",
    "    print(\"Whoops, we need an actual file!\")\n",
    "\n",
    "print(\"We can actually continue doing things though :)\")\n",
    "# We shouldn't really continue unless we have f correctly defined though!\n",
    "\n",
    "# Do some file stuff.\n",
    "#print(f.read())\n",
    "#print(\"All done with file stuff now. I should close it!\")\n",
    "#f.close()"
   ]
  },
  {
   "cell_type": "markdown",
   "metadata": {},
   "source": [
    "What if something bad happens whilst we're dealing with a file? Python error -> file will never close.\n",
    "\n",
    "As we need to always ensure the file is closed once we're done with it, this poses a problem.\n",
    "\n",
    "<u>Solution?</u>\n",
    "\n",
    "We could have many `except` clauses, hope that they're all there. Or use a generic Catch-all. But we'd still need to do file close in each one...\n",
    "\n",
    "Introducing: `finally`. Finally is part of the whole `try` `except` structure. It allows us to try some code, catch any potential exceptions, and then finally execute some other expressions.\n",
    "This will be executed <u>no matter what</u>. Whether the try block raises and error, or not. This is perfect for our use-case.\n",
    "\n",
    "<u>Caution:</u> Keep this block as simple and clean as possible. If an error happens here, you're still in trouble.\n",
    "\n",
    "For this example, let's assume our File exists. We want to do some things to it, so we have some python code to execute. If we get an error here, we'll never get to our file close. Let's use \"Grace\" + 5 as our poisoned challice.\n",
    "    \n",
    "```python\n",
    "f = open('my_file.txt')\n",
    "# Do some file stuff.\n",
    "print(f.read())\n",
    "x = \"Grace\" + 5 # Our 'wrong' bit of code. This could easily be ANY error.\n",
    "print(\"All done with file stuff now. I should close it!\")\n",
    "f.close()\n",
    "```"
   ]
  },
  {
   "cell_type": "code",
   "execution_count": 27,
   "metadata": {},
   "outputs": [
    {
     "name": "stdout",
     "output_type": "stream",
     "text": [
      "Hello Students!\n",
      "\n"
     ]
    },
    {
     "ename": "TypeError",
     "evalue": "can only concatenate str (not \"int\") to str",
     "output_type": "error",
     "traceback": [
      "\u001b[0;31m---------------------------------------------------------------------------\u001b[0m",
      "\u001b[0;31mTypeError\u001b[0m                                 Traceback (most recent call last)",
      "\u001b[0;32m<ipython-input-27-31b4c2072b3e>\u001b[0m in \u001b[0;36m<module>\u001b[0;34m\u001b[0m\n\u001b[1;32m      2\u001b[0m \u001b[0;31m# Do some file stuff.\u001b[0m\u001b[0;34m\u001b[0m\u001b[0;34m\u001b[0m\u001b[0;34m\u001b[0m\u001b[0m\n\u001b[1;32m      3\u001b[0m \u001b[0mprint\u001b[0m\u001b[0;34m(\u001b[0m\u001b[0mf\u001b[0m\u001b[0;34m.\u001b[0m\u001b[0mread\u001b[0m\u001b[0;34m(\u001b[0m\u001b[0;34m)\u001b[0m\u001b[0;34m)\u001b[0m\u001b[0;34m\u001b[0m\u001b[0;34m\u001b[0m\u001b[0m\n\u001b[0;32m----> 4\u001b[0;31m \u001b[0mx\u001b[0m \u001b[0;34m=\u001b[0m \u001b[0;34m\"Grace\"\u001b[0m \u001b[0;34m+\u001b[0m \u001b[0;36m5\u001b[0m \u001b[0;31m# Our 'wrong' bit of code. This could easily be ANY error.\u001b[0m\u001b[0;34m\u001b[0m\u001b[0;34m\u001b[0m\u001b[0m\n\u001b[0m\u001b[1;32m      5\u001b[0m \u001b[0mprint\u001b[0m\u001b[0;34m(\u001b[0m\u001b[0;34m\"All done with file stuff now. I should close it!\"\u001b[0m\u001b[0;34m)\u001b[0m\u001b[0;34m\u001b[0m\u001b[0;34m\u001b[0m\u001b[0m\n\u001b[1;32m      6\u001b[0m \u001b[0mf\u001b[0m\u001b[0;34m.\u001b[0m\u001b[0mclose\u001b[0m\u001b[0;34m(\u001b[0m\u001b[0;34m)\u001b[0m\u001b[0;34m\u001b[0m\u001b[0;34m\u001b[0m\u001b[0m\n",
      "\u001b[0;31mTypeError\u001b[0m: can only concatenate str (not \"int\") to str"
     ]
    }
   ],
   "source": [
    "f = open('my_file.txt')\n",
    "# Do some file stuff.\n",
    "print(f.read())\n",
    "x = \"Grace\" + 5 # Our 'wrong' bit of code. This could easily be ANY error.\n",
    "print(\"All done with file stuff now. I should close it!\")\n",
    "f.close()"
   ]
  },
  {
   "cell_type": "markdown",
   "metadata": {},
   "source": [
    "Let's fix this up with our `try` and `except` keywords."
   ]
  },
  {
   "cell_type": "code",
   "execution_count": 28,
   "metadata": {},
   "outputs": [
    {
     "name": "stdout",
     "output_type": "stream",
     "text": [
      "Hello Students!\n",
      "\n",
      "Drat. Something went wrong:  can only concatenate str (not \"int\") to str\n"
     ]
    }
   ],
   "source": [
    "f = open('my_file.txt')\n",
    "\n",
    "try:\n",
    "    # Do some file stuff.\n",
    "    print(f.read())\n",
    "    x = \"Grace\" + 5 # Our 'wrong' bit of code. This could easily be ANY error.\n",
    "    print(\"All done with file stuff now. I should close it!\")\n",
    "    f.close() # This still won't get executed!\n",
    "except TypeError as e: # I know the Type here. Could use `Exception` as the most generic.\n",
    "    print(\"Drat. Something went wrong: \", e)"
   ]
  },
  {
   "cell_type": "markdown",
   "metadata": {},
   "source": [
    "**Mixing in our finally**"
   ]
  },
  {
   "cell_type": "code",
   "execution_count": 29,
   "metadata": {},
   "outputs": [
    {
     "name": "stdout",
     "output_type": "stream",
     "text": [
      "Hello Students!\n",
      "\n",
      "Drat. Something went wrong:  can only concatenate str (not \"int\") to str\n",
      "All done with file stuff now. I should close it!\n"
     ]
    }
   ],
   "source": [
    "f = open('my_file.txt')\n",
    "\n",
    "try:\n",
    "    # Do some file stuff.\n",
    "    print(f.read())\n",
    "    x = \"Grace\" + 5 # Our 'wrong' bit of code. This could easily be ANY error.\n",
    "except TypeError as e: # I know the Type here. Could use `Exception` as the most generic.\n",
    "    print(\"Drat. Something went wrong: \", e)\n",
    "finally: # Executed no matter what!\n",
    "    print(\"All done with file stuff now. I should close it!\")\n",
    "    f.close() # This still won't get executed!"
   ]
  },
  {
   "cell_type": "markdown",
   "metadata": {},
   "source": [
    "# Context Managers - Best Practice\n",
    "So far we have to remember to close the file ourself, and be very concious over potential errors coming from somewhere and ruining our day.\n",
    "\n",
    "Introducing <u>Context Managers</u>. These 'wrap' our code and provide a convenient access to files within a specific context. They automatically handle closing the file for us.\n",
    "\n",
    "We need a new keyword here. Called `with`.\n",
    "\n",
    "Benefits:\n",
    "* Reduces the amount of \"boilerplate\" code that we need. **Handles file closing for us**. Decluttered -> More Pythonic.\n",
    "* If you cotinually 'open' files without closing them, eventually you'll hit a limit! Only a limited number of files can be open by your OS at any time.\n",
    "* Primarily, if an exception is encountered, Python automatically closes the file properly!\n",
    "\n",
    "```python\n",
    "try:\n",
    "    f = open('...')\n",
    "    # Do stuff\n",
    "finally:\n",
    "    f.close()\n",
    "```\n",
    "Becomes:\n",
    "```python\n",
    "with open('...') as f:\n",
    "    # Do stuff\n",
    "```"
   ]
  },
  {
   "cell_type": "markdown",
   "metadata": {},
   "source": [
    "Notably, this uses the `as` keyword which we introduced in Workshop 2 to provide a handle to the file itself. When we move outside of the block, the file will be closed."
   ]
  },
  {
   "cell_type": "code",
   "execution_count": 30,
   "metadata": {},
   "outputs": [
    {
     "name": "stdout",
     "output_type": "stream",
     "text": [
      "Hello Students!\n",
      "\n"
     ]
    }
   ],
   "source": [
    "f = open('my_file.txt')\n",
    "print(f.read())"
   ]
  },
  {
   "cell_type": "code",
   "execution_count": 31,
   "metadata": {},
   "outputs": [
    {
     "name": "stdout",
     "output_type": "stream",
     "text": [
      "Hello Students!\n",
      "\n"
     ]
    }
   ],
   "source": [
    "with open('my_file.txt') as my_file:\n",
    "    print(my_file.read())"
   ]
  },
  {
   "cell_type": "code",
   "execution_count": null,
   "metadata": {},
   "outputs": [],
   "source": []
  }
 ],
 "metadata": {
  "kernelspec": {
   "display_name": "Python 3",
   "language": "python",
   "name": "python3"
  },
  "language_info": {
   "codemirror_mode": {
    "name": "ipython",
    "version": 3
   },
   "file_extension": ".py",
   "mimetype": "text/x-python",
   "name": "python",
   "nbconvert_exporter": "python",
   "pygments_lexer": "ipython3",
   "version": "3.8.5"
  }
 },
 "nbformat": 4,
 "nbformat_minor": 4
}
